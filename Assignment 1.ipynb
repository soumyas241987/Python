{
 "cells": [
  {
   "cell_type": "code",
   "execution_count": 44,
   "metadata": {},
   "outputs": [
    {
     "name": "stdout",
     "output_type": "stream",
     "text": [
      "Twinkle, twinkle, little star, \n",
      " \tHow I wonder what you are! \n",
      "\t \tUp above the world so high, \n",
      " \t \tLike a diamond in the sky.\n",
      "Twinkle, twinkle, little star, \n",
      " \tHow I wonder what you are! \n"
     ]
    }
   ],
   "source": [
    "#1. String in particular format\n",
    "input_string = \"Twinkle, twinkle, little star,How I wonder what you are! Up above the world so high, Like a diamond in the sky.Twinkle, twinkle, little star,How I wonder what you are\"\n",
    "#print(input_string.split(\"!\",\".\"))\n",
    "updated = input_string.partition(\"Up above the world so high, Like a diamond in the sky.\")\n",
    "print(updated[0].replace(\"star,\",\"star, \\n \\t\"))\n",
    "print(\"\\t \\t\"+updated[1].replace(\"Like\",\"\\n \\t \\tLike\"))\n",
    "print(updated[0].replace(\"star,\",\"star, \\n \\t\"))\n",
    "\n",
    "\n",
    "\n"
   ]
  },
  {
   "cell_type": "code",
   "execution_count": 8,
   "metadata": {},
   "outputs": [
    {
     "name": "stdout",
     "output_type": "stream",
     "text": [
      "3.8.3 (default, Jul  2 2020, 17:30:36) [MSC v.1916 64 bit (AMD64)]\n"
     ]
    }
   ],
   "source": [
    "#2. To get Python version\n",
    "import sys\n",
    "print(sys.version)"
   ]
  },
  {
   "cell_type": "code",
   "execution_count": 76,
   "metadata": {},
   "outputs": [
    {
     "name": "stdout",
     "output_type": "stream",
     "text": [
      "Enter radius of the circle: 10\n",
      "Area of the circle: 314.1592653589793\n"
     ]
    }
   ],
   "source": [
    "# 3. Compute Area of circle\n",
    "import math\n",
    "radius = input(\"Enter radius of the circle: \")\n",
    "area = math.pi*(float(radius)**2)\n",
    "print ((\"Area of the circle: \")+str(area))"
   ]
  },
  {
   "cell_type": "code",
   "execution_count": 25,
   "metadata": {},
   "outputs": [
    {
     "name": "stdout",
     "output_type": "stream",
     "text": [
      "Fri Oct  9 11:45:37 2020\n"
     ]
    }
   ],
   "source": [
    "#4 program to print date and time\n",
    "import datetime\n",
    "print(datetime.datetime.now().strftime(\"%c\"))\n"
   ]
  },
  {
   "cell_type": "code",
   "execution_count": 3,
   "metadata": {},
   "outputs": [
    {
     "name": "stdout",
     "output_type": "stream",
     "text": [
      "Enter your first name and second name :Soumya S\n",
      "S Soumya\n"
     ]
    }
   ],
   "source": [
    "#5 (a). Reverse first name and second name (1)\n",
    "name = input(\"Enter your first name and second name :\")\n",
    "result = name.split()\n",
    "result.reverse()\n",
    "print(result[0]+\" \"+result[1])"
   ]
  },
  {
   "cell_type": "code",
   "execution_count": 24,
   "metadata": {},
   "outputs": [
    {
     "name": "stdout",
     "output_type": "stream",
     "text": [
      "Enter your first name and last name :Soumya Rohit\n",
      "aymuoS tihoR\n"
     ]
    }
   ],
   "source": [
    "#5 (b). Reverse first name and second name (1)\n",
    "name = input(\"Enter your first name and last name :\")\n",
    "result = name.split()\n",
    "Fname = result[0]\n",
    "Sname = result[1]\n",
    "\n",
    "newFname = \"\"\n",
    "for i in range(len(Fname)-1,-1,-1):\n",
    "    newFname = newFname+Fname[i]\n",
    "    \n",
    "newSname = \"\"\n",
    "for i in range(len(Sname)-1,-1,-1):\n",
    "    newSname = newSname+Sname[i]\n",
    "    \n",
    "print(newFname+\" \"+newSname)"
   ]
  },
  {
   "cell_type": "code",
   "execution_count": null,
   "metadata": {},
   "outputs": [],
   "source": [
    "#6. Input integer value and compute result - n+nn+nnn = 5+55+555\n",
    "number = input(\"Enter integer: \")\n",
    "if (number.isdigit()):\n",
    "    result1 = int(number)\n",
    "    result2 = 11 * int(number)\n",
    "    result3 = int(number)*111\n",
    "    result = result1+result2+result3\n",
    "    print(str (result))\n",
    "else:\n",
    "    print(\"Enter Integer\")"
   ]
  },
  {
   "cell_type": "markdown",
   "metadata": {},
   "source": [
    "**SUVAJIT :** \n",
    "PLEASE IMPLEMENT THIS WITH LOGIC SO THAT IT WORKS FOR ANY NUMBER. \n",
    "ACCEPT 2 INPUTS :\n",
    "1. INTEGER NUMBER\n",
    "2. MAX LENGTH OF NUMBER \n",
    "\n",
    "EXAMPLE, IF INPUT IS 2 & 4,it should show sum of\n",
    "2 + 22 + 222 + 2222 \n",
    "\n",
    "\n",
    "\n"
   ]
  },
  {
   "cell_type": "code",
   "execution_count": 58,
   "metadata": {},
   "outputs": [
    {
     "name": "stdout",
     "output_type": "stream",
     "text": [
      "Enter first variable: t\n",
      "Enter second variable: r\n",
      "Swapped result/n\n",
      "First: r\n",
      "Second: t\n"
     ]
    }
   ],
   "source": [
    "#7. Swap 2 variabeles\n",
    "first_var = input (\"Enter first variable: \")\n",
    "second_var = input (\"Enter second variable: \")\n",
    "temp = first_var\n",
    "first_var = second_var\n",
    "second_var = temp\n",
    "print(\"Swapped result\"+'/n')\n",
    "print (\"First: \"+first_var)\n",
    "print (\"Second: \"+second_var)\n"
   ]
  },
  {
   "cell_type": "code",
   "execution_count": 1,
   "metadata": {},
   "outputs": [
    {
     "name": "stdout",
     "output_type": "stream",
     "text": [
      "10 5\n"
     ]
    }
   ],
   "source": [
    "# DOING it Python style\n",
    "a = 5\n",
    "b = 10\n",
    "a,b = b,a\n",
    "print(a,b)"
   ]
  },
  {
   "cell_type": "code",
   "execution_count": 3,
   "metadata": {},
   "outputs": [
    {
     "name": "stdout",
     "output_type": "stream",
     "text": [
      "Enter a number: -45\n",
      "You entered number\n"
     ]
    }
   ],
   "source": [
    "#8. To check if input is number or not\n",
    "number = input(\"Enter a number: \")\n",
    "if (number.isalpha() == True ):\n",
    "    result = 1\n",
    "else:\n",
    "    if (number.isdigit() == True ) or (number.isdecimal() ==True) or abs (int(number)) >=0 or abs (complex(number)) >=0 :\n",
    "        result = 2\n",
    "        \n",
    "        \n",
    "if (result == 2):\n",
    "    print(\"You entered number\")\n",
    "else:\n",
    "    if (result == 1):\n",
    "        print(\"You entered non numeric value\")"
   ]
  },
  {
   "cell_type": "code",
   "execution_count": 5,
   "metadata": {},
   "outputs": [
    {
     "name": "stdout",
     "output_type": "stream",
     "text": [
      "Enter decimal number: 30\n",
      "Hexadecimal number equivalent :0x1e\n"
     ]
    }
   ],
   "source": [
    "#9. Convert decimal to Hexadecimal\n",
    "decimal_number = input(\"Enter decimal number: \")\n",
    "hex_number = hex(int(decimal_number))\n",
    "print(\"Hexadecimal number equivalent :\"+str(hex_number))"
   ]
  },
  {
   "cell_type": "code",
   "execution_count": 105,
   "metadata": {},
   "outputs": [
    {
     "name": "stdout",
     "output_type": "stream",
     "text": [
      "Enter a number: 10\n",
      "Positive\n"
     ]
    }
   ],
   "source": [
    "#10 To check if number is positive/negetive/zero\n",
    "number = input(\"Enter a number: \")\n",
    "if(number.isalpha()):\n",
    "    print (\"You did not enter number\")\n",
    "else:\n",
    "    cmplx = complex(number)\n",
    "    if (cmplx.real >0):\n",
    "        print (\"Positive\")\n",
    "    else:\n",
    "        if (cmplx.real == 0):\n",
    "            print (\"Zero\")\n",
    "        else:\n",
    "            if (cmplx.real <0):\n",
    "                print (\"Negetive\")\n",
    "\n",
    "\n"
   ]
  },
  {
   "cell_type": "markdown",
   "metadata": {},
   "source": [
    "**SUVAJIT** Why did you use complex number ? Isnt there a simpler technique ?"
   ]
  },
  {
   "cell_type": "code",
   "execution_count": null,
   "metadata": {},
   "outputs": [],
   "source": []
  }
 ],
 "metadata": {
  "kernelspec": {
   "display_name": "Python 3",
   "language": "python",
   "name": "python3"
  },
  "language_info": {
   "codemirror_mode": {
    "name": "ipython",
    "version": 3
   },
   "file_extension": ".py",
   "mimetype": "text/x-python",
   "name": "python",
   "nbconvert_exporter": "python",
   "pygments_lexer": "ipython3",
   "version": "3.8.3"
  }
 },
 "nbformat": 4,
 "nbformat_minor": 4
}
